{
 "cells": [
  {
   "cell_type": "code",
   "execution_count": 143,
   "id": "ee5583f2-ee2e-4da7-b1e1-9903e338a4df",
   "metadata": {},
   "outputs": [],
   "source": [
    "import pandas as pd\n",
    "import matplotlib.pyplot as plt\n",
    "import seaborn as sns\n",
    "import numpy as np\n",
    "import tensorflow as tf\n",
    "from sklearn.utils import shuffle\n"
   ]
  },
  {
   "cell_type": "code",
   "execution_count": 144,
   "id": "49f4fb1b-a820-4823-bd64-01996248cb93",
   "metadata": {},
   "outputs": [],
   "source": [
    "mean_data = 0\n",
    "\n",
    "def get_data(filename):\n",
    "    df = pd.read_csv(filename)\n",
    "    mean_data = df.mean()\n",
    "    df = df.fillna(mean_data)\n",
    "    X = tf.convert_to_tensor(df.drop([\"Id\", \"Week\", \"target\"], axis=1).to_numpy())\n",
    "    shape = X.shape\n",
    "    print(shape)\n",
    "    print((shape[0] // 4, 4, shape[1]))\n",
    "    X = tf.reshape(X, (shape[0] // 4, 4, shape[1]))\n",
    "    \n",
    "    y = tf.one_hot(tf.convert_to_tensor(df[\"target\"].to_numpy(), dtype=tf.int32)[::4], 2)\n",
    "    \n",
    "    return X, y"
   ]
  },
  {
   "cell_type": "code",
   "execution_count": 145,
   "id": "841ef3a0-1843-44f4-9bc3-11899fd66363",
   "metadata": {},
   "outputs": [],
   "source": [
    "def get_test_data(filename):\n",
    "    df = pd.read_csv(filename)\n",
    "    df = df.fillna(mean_data)\n",
    "    \n",
    "    X = tf.convert_to_tensor(df.drop([\"Id\", \"Week\"], axis=1).to_numpy())\n",
    "    shape = X.shape\n",
    "    print(shape)\n",
    "    X = tf.reshape(X, (shape[0] // 4, 4, shape[1]))\n",
    "    \n",
    "    ids = tf.convert_to_tensor(df[\"Id\"].to_numpy(), dtype=tf.int64)[::4]\n",
    "    \n",
    "    return X, ids"
   ]
  },
  {
   "cell_type": "code",
   "execution_count": 146,
   "id": "5f1be388-452c-409c-9db4-ed1e831c7fdb",
   "metadata": {},
   "outputs": [],
   "source": [
    "df = pd.read_csv(\"train.csv\")\n",
    "df = df.fillna(df.mean())"
   ]
  },
  {
   "cell_type": "code",
   "execution_count": 148,
   "id": "10282f33-12cf-44ae-a28d-4ef1a6b85a1e",
   "metadata": {},
   "outputs": [
    {
     "name": "stdout",
     "output_type": "stream",
     "text": [
      "(30860, 49)\n",
      "(7715, 4, 49)\n"
     ]
    }
   ],
   "source": [
    "X, y = get_data(\"train.csv\")\n",
    "# amount = int(len(X) * 0.2)\n",
    "amount = 1\n",
    "X_train, X_eval = X[:len(X) - amount], X[len(X) - amount:]\n",
    "y_train, y_eval = y[:len(X) - amount], y[len(X) - amount:]"
   ]
  },
  {
   "cell_type": "code",
   "execution_count": 149,
   "id": "429fe89c-afcd-4cf3-978e-63b31b65eaab",
   "metadata": {},
   "outputs": [],
   "source": [
    "model = tf.keras.Sequential([\n",
    "    tf.keras.layers.Normalization(axis=1),\n",
    "    tf.keras.layers.InputLayer(49*4),\n",
    "    tf.keras.layers.Dense(100, activation='sigmoid'),\n",
    "    tf.keras.layers.Dense(100, activation='sigmoid'),\n",
    "    tf.keras.layers.Dense(2, activation='softmax'),\n",
    "])"
   ]
  },
  {
   "cell_type": "code",
   "execution_count": 150,
   "id": "96ea9b79-d6a4-477c-af5f-fa2a3978125a",
   "metadata": {},
   "outputs": [],
   "source": [
    "model = tf.keras.Sequential([\n",
    "    tf.keras.layers.Normalization(axis=2),\n",
    "    tf.keras.layers.InputLayer((4, 49)),\n",
    "    tf.keras.layers.SimpleRNN(50, activation='sigmoid', return_sequences=True),\n",
    "    tf.keras.layers.Reshape((-1,)),\n",
    "    tf.keras.layers.Dense(50, activation='sigmoid'),\n",
    "    tf.keras.layers.Dense(2, activation='softmax'),\n",
    "])"
   ]
  },
  {
   "cell_type": "code",
   "execution_count": 151,
   "id": "ca847d15-23a3-47b3-8c82-a3b5eca45423",
   "metadata": {},
   "outputs": [],
   "source": [
    "model.compile(\n",
    "    optimizer=tf.keras.optimizers.Adam(learning_rate=0.0001),\n",
    "    loss='binary_crossentropy',\n",
    "    metrics=[tf.keras.metrics.Precision(),tf.keras.metrics.AUC(), tf.keras.metrics.Recall()]\n",
    ")"
   ]
  },
  {
   "cell_type": "code",
   "execution_count": 152,
   "id": "70db9169-4323-4805-9bec-dfa7fd0e415e",
   "metadata": {},
   "outputs": [
    {
     "name": "stdout",
     "output_type": "stream",
     "text": [
      "Epoch 1/20\n",
      "155/155 [==============================] - 1s 754us/step - loss: 0.5754 - precision_9: 0.7145 - auc_9: 0.7914 - recall_9: 0.7145\n",
      "Epoch 2/20\n",
      "155/155 [==============================] - 0s 760us/step - loss: 0.4501 - precision_9: 0.8269 - auc_9: 0.8858 - recall_9: 0.8269\n",
      "Epoch 3/20\n",
      "155/155 [==============================] - 0s 767us/step - loss: 0.4358 - precision_9: 0.8269 - auc_9: 0.9224 - recall_9: 0.8269\n",
      "Epoch 4/20\n",
      "155/155 [==============================] - 0s 747us/step - loss: 0.4222 - precision_9: 0.8269 - auc_9: 0.9298 - recall_9: 0.8269\n",
      "Epoch 5/20\n",
      "155/155 [==============================] - 0s 760us/step - loss: 0.4076 - precision_9: 0.8278 - auc_9: 0.9307 - recall_9: 0.8278\n",
      "Epoch 6/20\n",
      "155/155 [==============================] - 0s 754us/step - loss: 0.3927 - precision_9: 0.8313 - auc_9: 0.9319 - recall_9: 0.8313\n",
      "Epoch 7/20\n",
      "155/155 [==============================] - 0s 767us/step - loss: 0.3779 - precision_9: 0.8390 - auc_9: 0.9330 - recall_9: 0.8390\n",
      "Epoch 8/20\n",
      "155/155 [==============================] - 0s 773us/step - loss: 0.3645 - precision_9: 0.8500 - auc_9: 0.9339 - recall_9: 0.8500\n",
      "Epoch 9/20\n",
      "155/155 [==============================] - 0s 767us/step - loss: 0.3527 - precision_9: 0.8558 - auc_9: 0.9361 - recall_9: 0.8558\n",
      "Epoch 10/20\n",
      "155/155 [==============================] - 0s 754us/step - loss: 0.3442 - precision_9: 0.8593 - auc_9: 0.9370 - recall_9: 0.8593\n",
      "Epoch 11/20\n",
      "155/155 [==============================] - 0s 747us/step - loss: 0.3367 - precision_9: 0.8622 - auc_9: 0.9394 - recall_9: 0.8622\n",
      "Epoch 12/20\n",
      "155/155 [==============================] - 0s 754us/step - loss: 0.3309 - precision_9: 0.8638 - auc_9: 0.9402 - recall_9: 0.8638\n",
      "Epoch 13/20\n",
      "155/155 [==============================] - 0s 754us/step - loss: 0.3260 - precision_9: 0.8663 - auc_9: 0.9409 - recall_9: 0.8663\n",
      "Epoch 14/20\n",
      "155/155 [==============================] - 0s 754us/step - loss: 0.3215 - precision_9: 0.8660 - auc_9: 0.9426 - recall_9: 0.8660\n",
      "Epoch 15/20\n",
      "155/155 [==============================] - 0s 767us/step - loss: 0.3183 - precision_9: 0.8683 - auc_9: 0.9433 - recall_9: 0.8683\n",
      "Epoch 16/20\n",
      "155/155 [==============================] - 0s 767us/step - loss: 0.3145 - precision_9: 0.8692 - auc_9: 0.9448 - recall_9: 0.8692\n",
      "Epoch 17/20\n",
      "155/155 [==============================] - 0s 767us/step - loss: 0.3123 - precision_9: 0.8741 - auc_9: 0.9452 - recall_9: 0.8741\n",
      "Epoch 18/20\n",
      "155/155 [==============================] - 0s 754us/step - loss: 0.3096 - precision_9: 0.8768 - auc_9: 0.9454 - recall_9: 0.8768\n",
      "Epoch 19/20\n",
      "155/155 [==============================] - 0s 760us/step - loss: 0.3078 - precision_9: 0.8793 - auc_9: 0.9451 - recall_9: 0.8793\n",
      "Epoch 20/20\n",
      "155/155 [==============================] - 0s 747us/step - loss: 0.3061 - precision_9: 0.8815 - auc_9: 0.9452 - recall_9: 0.8815\n"
     ]
    },
    {
     "data": {
      "text/plain": [
       "<keras.callbacks.History at 0x26387436610>"
      ]
     },
     "execution_count": 152,
     "metadata": {},
     "output_type": "execute_result"
    }
   ],
   "source": [
    "model.fit(X_train, y_train, epochs=20, batch_size=50)"
   ]
  },
  {
   "cell_type": "code",
   "execution_count": 153,
   "id": "1d11755c-4d84-4a18-a7af-eca0e12764dc",
   "metadata": {},
   "outputs": [
    {
     "name": "stdout",
     "output_type": "stream",
     "text": [
      "('You must install pydot (`pip install pydot`) and install graphviz (see instructions at https://graphviz.gitlab.io/download/) ', 'for plot_model/model_to_dot to work.')\n"
     ]
    }
   ],
   "source": [
    "tf.keras.utils.plot_model(model, show_shapes=True)"
   ]
  },
  {
   "cell_type": "code",
   "execution_count": 154,
   "id": "46e08091-1586-4360-a6e1-3aa121b36c90",
   "metadata": {},
   "outputs": [
    {
     "name": "stdout",
     "output_type": "stream",
     "text": [
      "1/1 [==============================] - 0s 219ms/step - loss: 0.2790 - precision_9: 1.0000 - auc_9: 1.0000 - recall_9: 1.0000\n"
     ]
    },
    {
     "data": {
      "text/plain": [
       "[0.27901315689086914, 1.0, 1.0, 1.0]"
      ]
     },
     "execution_count": 154,
     "metadata": {},
     "output_type": "execute_result"
    }
   ],
   "source": [
    "model.evaluate(X_eval, y_eval)"
   ]
  },
  {
   "cell_type": "code",
   "execution_count": 155,
   "id": "c9f9d5af-352e-4196-908f-9048551224bf",
   "metadata": {},
   "outputs": [
    {
     "name": "stdout",
     "output_type": "stream",
     "text": [
      "(13228, 49)\n"
     ]
    },
    {
     "data": {
      "text/plain": [
       "<tf.Tensor: shape=(3307, 4, 49), dtype=float64, numpy=\n",
       "array([[[0.00000000e+00, 0.00000000e+00, 1.48809524e-02, ...,\n",
       "         9.02439024e-01, 4.32100000e+03, 6.42857143e-01],\n",
       "        [0.00000000e+00, 0.00000000e+00, 1.48809524e-02, ...,\n",
       "         9.04761905e-01, 6.26500000e+03, 7.14285714e-01],\n",
       "        [0.00000000e+00, 0.00000000e+00, 1.48809524e-02, ...,\n",
       "         9.00000000e-01, 2.00300000e+03, 8.21428571e-01],\n",
       "        [0.00000000e+00, 0.00000000e+00, 1.48809524e-02, ...,\n",
       "         9.37500000e-01, 1.06900000e+03, 6.56250000e-01]],\n",
       "\n",
       "       [[0.00000000e+00, 0.00000000e+00, 0.00000000e+00, ...,\n",
       "         1.90476190e-01, 2.41600000e+03, 9.52380952e-02],\n",
       "        [0.00000000e+00, 0.00000000e+00, 0.00000000e+00, ...,\n",
       "         1.81818182e-01, 1.53800000e+03, 3.03030303e-02],\n",
       "        [0.00000000e+00, 0.00000000e+00, 0.00000000e+00, ...,\n",
       "         1.31578947e-01, 2.19800000e+03, 1.31578947e-01],\n",
       "        [0.00000000e+00, 0.00000000e+00, 0.00000000e+00, ...,\n",
       "         1.76470588e-01, 2.81100000e+03, 1.47058824e-01]],\n",
       "\n",
       "       [[0.00000000e+00, 0.00000000e+00, 0.00000000e+00, ...,\n",
       "         0.00000000e+00, 2.63900000e+03, 0.00000000e+00],\n",
       "        [0.00000000e+00, 0.00000000e+00, 0.00000000e+00, ...,\n",
       "         0.00000000e+00, 2.05700000e+03, 0.00000000e+00],\n",
       "        [0.00000000e+00, 0.00000000e+00, 0.00000000e+00, ...,\n",
       "         0.00000000e+00, 1.98500000e+03, 2.85714286e-01],\n",
       "        [0.00000000e+00, 0.00000000e+00, 0.00000000e+00, ...,\n",
       "         0.00000000e+00, 3.21300000e+03, 6.66666667e-02]],\n",
       "\n",
       "       ...,\n",
       "\n",
       "       [[1.66666667e-01, 4.00000000e+00, 2.28354978e-02, ...,\n",
       "         3.94366197e-01, 9.32000000e+02, 1.97183099e-01],\n",
       "        [1.66666667e-01, 4.00000000e+00, 2.28354978e-02, ...,\n",
       "         5.27027027e-01, 1.54800000e+03, 2.33766234e-01],\n",
       "        [1.66666667e-01, 4.00000000e+00, 2.28354978e-02, ...,\n",
       "         2.26190476e-01, 2.32500000e+03, 2.97619048e-01],\n",
       "        [1.66666667e-01, 4.00000000e+00, 2.28354978e-02, ...,\n",
       "         2.05882353e-01, 2.57100000e+03, 3.71428571e-01]],\n",
       "\n",
       "       [[0.00000000e+00, 0.00000000e+00, 9.61538462e-03, ...,\n",
       "         1.00000000e+00, 1.34200000e+03, 3.15789474e-01],\n",
       "        [0.00000000e+00, 0.00000000e+00, 9.61538462e-03, ...,\n",
       "         9.60000000e-01, 9.32000000e+02, 3.60000000e-01],\n",
       "        [0.00000000e+00, 0.00000000e+00, 9.61538462e-03, ...,\n",
       "         9.21568627e-01, 6.45000000e+02, 4.70588235e-01],\n",
       "        [0.00000000e+00, 0.00000000e+00, 9.61538462e-03, ...,\n",
       "         7.30769231e-01, 9.04000000e+02, 5.38461538e-01]],\n",
       "\n",
       "       [[5.12820513e-02, 1.00000000e+00, 0.00000000e+00, ...,\n",
       "         0.00000000e+00, 0.00000000e+00, 0.00000000e+00],\n",
       "        [5.12820513e-02, 1.00000000e+00, 0.00000000e+00, ...,\n",
       "         0.00000000e+00, 0.00000000e+00, 0.00000000e+00],\n",
       "        [5.12820513e-02, 1.00000000e+00, 0.00000000e+00, ...,\n",
       "         0.00000000e+00, 5.40000000e+03, 2.00000000e-01],\n",
       "        [5.12820513e-02, 1.00000000e+00, 0.00000000e+00, ...,\n",
       "         3.77358491e-02, 1.03600000e+03, 1.32075472e-01]]])>"
      ]
     },
     "execution_count": 155,
     "metadata": {},
     "output_type": "execute_result"
    }
   ],
   "source": [
    "X_test, ids = get_test_data(\"test.csv\")\n",
    "X_test"
   ]
  },
  {
   "cell_type": "code",
   "execution_count": 156,
   "id": "d51ff50e-249a-44b9-ab57-7d686a51ab5a",
   "metadata": {},
   "outputs": [],
   "source": [
    "y_predict = model.predict(X_test)"
   ]
  },
  {
   "cell_type": "code",
   "execution_count": 157,
   "id": "007725bc-81e7-4f09-b319-1ac0c801c944",
   "metadata": {},
   "outputs": [
    {
     "data": {
      "text/plain": [
       "array([[0.9967225 , 0.00327747],\n",
       "       [0.98934513, 0.0106548 ],\n",
       "       [0.14755596, 0.85244405],\n",
       "       ...,\n",
       "       [0.9983474 , 0.00165261],\n",
       "       [0.99819297, 0.00180706],\n",
       "       [0.6296453 , 0.3703547 ]], dtype=float32)"
      ]
     },
     "execution_count": 157,
     "metadata": {},
     "output_type": "execute_result"
    }
   ],
   "source": [
    "y_predict"
   ]
  },
  {
   "cell_type": "code",
   "execution_count": 158,
   "id": "6e22a0f0-18f5-4853-ad1d-f19889174143",
   "metadata": {},
   "outputs": [],
   "source": [
    "output = pd.DataFrame({\"Id\": ids, \"Predicted\": tf.cast(tf.argmax(y_predict, axis=1), dtype=tf.float32)})\n",
    "output = output.set_index(\"Id\")"
   ]
  },
  {
   "cell_type": "code",
   "execution_count": 159,
   "id": "dad08de9-9431-4507-b92d-43c0855709a3",
   "metadata": {},
   "outputs": [],
   "source": [
    "output.to_csv('submission.csv')"
   ]
  },
  {
   "cell_type": "code",
   "execution_count": 160,
   "id": "2cf57268-8857-4ccf-80ce-5530138bd27f",
   "metadata": {},
   "outputs": [
    {
     "data": {
      "text/html": [
       "<div>\n",
       "<style scoped>\n",
       "    .dataframe tbody tr th:only-of-type {\n",
       "        vertical-align: middle;\n",
       "    }\n",
       "\n",
       "    .dataframe tbody tr th {\n",
       "        vertical-align: top;\n",
       "    }\n",
       "\n",
       "    .dataframe thead th {\n",
       "        text-align: right;\n",
       "    }\n",
       "</style>\n",
       "<table border=\"1\" class=\"dataframe\">\n",
       "  <thead>\n",
       "    <tr style=\"text-align: right;\">\n",
       "      <th></th>\n",
       "      <th>Predicted</th>\n",
       "    </tr>\n",
       "    <tr>\n",
       "      <th>Id</th>\n",
       "      <th></th>\n",
       "    </tr>\n",
       "  </thead>\n",
       "  <tbody>\n",
       "    <tr>\n",
       "      <th>-2649749947427248381</th>\n",
       "      <td>1.0</td>\n",
       "    </tr>\n",
       "    <tr>\n",
       "      <th>2491230068529122787</th>\n",
       "      <td>1.0</td>\n",
       "    </tr>\n",
       "    <tr>\n",
       "      <th>3072806373507695662</th>\n",
       "      <td>1.0</td>\n",
       "    </tr>\n",
       "    <tr>\n",
       "      <th>7746549699970521640</th>\n",
       "      <td>1.0</td>\n",
       "    </tr>\n",
       "    <tr>\n",
       "      <th>1826411158033066922</th>\n",
       "      <td>1.0</td>\n",
       "    </tr>\n",
       "    <tr>\n",
       "      <th>...</th>\n",
       "      <td>...</td>\n",
       "    </tr>\n",
       "    <tr>\n",
       "      <th>7198661691036867853</th>\n",
       "      <td>1.0</td>\n",
       "    </tr>\n",
       "    <tr>\n",
       "      <th>-1455587686421958496</th>\n",
       "      <td>1.0</td>\n",
       "    </tr>\n",
       "    <tr>\n",
       "      <th>-8577792393317536620</th>\n",
       "      <td>1.0</td>\n",
       "    </tr>\n",
       "    <tr>\n",
       "      <th>8234138404209643668</th>\n",
       "      <td>1.0</td>\n",
       "    </tr>\n",
       "    <tr>\n",
       "      <th>-9022785499985300487</th>\n",
       "      <td>1.0</td>\n",
       "    </tr>\n",
       "  </tbody>\n",
       "</table>\n",
       "<p>567 rows × 1 columns</p>\n",
       "</div>"
      ],
      "text/plain": [
       "                      Predicted\n",
       "Id                             \n",
       "-2649749947427248381        1.0\n",
       " 2491230068529122787        1.0\n",
       " 3072806373507695662        1.0\n",
       " 7746549699970521640        1.0\n",
       " 1826411158033066922        1.0\n",
       "...                         ...\n",
       " 7198661691036867853        1.0\n",
       "-1455587686421958496        1.0\n",
       "-8577792393317536620        1.0\n",
       " 8234138404209643668        1.0\n",
       "-9022785499985300487        1.0\n",
       "\n",
       "[567 rows x 1 columns]"
      ]
     },
     "execution_count": 160,
     "metadata": {},
     "output_type": "execute_result"
    }
   ],
   "source": [
    "output[output.Predicted != 0]"
   ]
  },
  {
   "cell_type": "code",
   "execution_count": null,
   "id": "fc1fefc3-30fe-47dc-957a-d439d94994dd",
   "metadata": {},
   "outputs": [],
   "source": []
  }
 ],
 "metadata": {
  "kernelspec": {
   "display_name": "Python 3",
   "language": "python",
   "name": "python3"
  },
  "language_info": {
   "codemirror_mode": {
    "name": "ipython",
    "version": 3
   },
   "file_extension": ".py",
   "mimetype": "text/x-python",
   "name": "python",
   "nbconvert_exporter": "python",
   "pygments_lexer": "ipython3",
   "version": "3.9.5"
  }
 },
 "nbformat": 4,
 "nbformat_minor": 5
}
